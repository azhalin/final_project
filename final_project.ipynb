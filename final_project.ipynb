{
 "cells": [
  {
   "cell_type": "code",
   "execution_count": 79,
   "metadata": {},
   "outputs": [],
   "source": [
    "# импортируем библиотеки\n",
    "import pandas as pd\n",
    "import numpy as np\n",
    "import seaborn as sns\n",
    "import requests\n",
    "from urllib.parse import urlencode\n",
    "from scipy import stats\n",
    "from scipy.stats import ttest_ind\n",
    "from scipy.stats import chi2_contingency\n",
    "import matplotlib.pyplot as plt"
   ]
  },
  {
   "cell_type": "code",
   "execution_count": null,
   "metadata": {},
   "outputs": [],
   "source": []
  },
  {
   "cell_type": "code",
   "execution_count": 2,
   "metadata": {},
   "outputs": [],
   "source": [
    "def get_data(url, sep):\n",
    "    '''\n",
    "    Функция для того чтобы считать данные из яндекс диска с помощью API c разделителем по умолчанию\n",
    "    '''\n",
    "    # используем api \n",
    "    base_url = 'https://cloud-api.yandex.net/v1/disk/public/resources/download?' \n",
    "    public_key = url \n",
    " \n",
    "    # получаем url \n",
    "    final_url = base_url + urlencode(dict(public_key=public_key)) \n",
    "    response = requests.get(final_url) \n",
    "    download_url = response.json()['href'] \n",
    " \n",
    "    # загружаем файл в df \n",
    "    df = pd.read_csv(download_url, sep=sep)\n",
    "    return df"
   ]
  },
  {
   "cell_type": "code",
   "execution_count": 3,
   "metadata": {},
   "outputs": [],
   "source": [
    "# сохраняем переменные со ссылками на входные данные\n",
    "groups_url = 'https://disk.yandex.ru/d/58Us0DWOzuWAjg'\n",
    "groups_add_url = 'https://disk.yandex.ru/d/3aARY-P9pfaksg'\n",
    "active_url = 'https://disk.yandex.ru/d/prbgU-rZpiXVYg'\n",
    "checks_url = 'https://disk.yandex.ru/d/84hTmELphW2sqQ'"
   ]
  },
  {
   "cell_type": "code",
   "execution_count": 5,
   "metadata": {},
   "outputs": [],
   "source": [
    "# считываем данные \n",
    "groups = get_data(groups_url, sep=';')\n",
    "active = get_data(active_url, sep=',')  \n",
    "checks = get_data(checks_url, sep=';')"
   ]
  },
  {
   "cell_type": "code",
   "execution_count": 6,
   "metadata": {},
   "outputs": [
    {
     "data": {
      "text/html": [
       "<div>\n",
       "<style scoped>\n",
       "    .dataframe tbody tr th:only-of-type {\n",
       "        vertical-align: middle;\n",
       "    }\n",
       "\n",
       "    .dataframe tbody tr th {\n",
       "        vertical-align: top;\n",
       "    }\n",
       "\n",
       "    .dataframe thead th {\n",
       "        text-align: right;\n",
       "    }\n",
       "</style>\n",
       "<table border=\"1\" class=\"dataframe\">\n",
       "  <thead>\n",
       "    <tr style=\"text-align: right;\">\n",
       "      <th></th>\n",
       "      <th>id</th>\n",
       "      <th>grp</th>\n",
       "    </tr>\n",
       "  </thead>\n",
       "  <tbody>\n",
       "    <tr>\n",
       "      <th>0</th>\n",
       "      <td>1489</td>\n",
       "      <td>B</td>\n",
       "    </tr>\n",
       "    <tr>\n",
       "      <th>1</th>\n",
       "      <td>1627</td>\n",
       "      <td>A</td>\n",
       "    </tr>\n",
       "    <tr>\n",
       "      <th>2</th>\n",
       "      <td>1768</td>\n",
       "      <td>B</td>\n",
       "    </tr>\n",
       "    <tr>\n",
       "      <th>3</th>\n",
       "      <td>1783</td>\n",
       "      <td>B</td>\n",
       "    </tr>\n",
       "    <tr>\n",
       "      <th>4</th>\n",
       "      <td>1794</td>\n",
       "      <td>A</td>\n",
       "    </tr>\n",
       "  </tbody>\n",
       "</table>\n",
       "</div>"
      ],
      "text/plain": [
       "     id grp\n",
       "0  1489   B\n",
       "1  1627   A\n",
       "2  1768   B\n",
       "3  1783   B\n",
       "4  1794   A"
      ]
     },
     "execution_count": 6,
     "metadata": {},
     "output_type": "execute_result"
    }
   ],
   "source": [
    "groups.head()"
   ]
  },
  {
   "cell_type": "code",
   "execution_count": null,
   "metadata": {},
   "outputs": [],
   "source": []
  },
  {
   "cell_type": "markdown",
   "metadata": {},
   "source": [
    "# 1.1 Условие\n",
    "\n",
    "Одной из основных задач аналитика в нашей команде является корректное проведение экспериментов. Для этого мы применяем метод A/B–тестирования. В ходе тестирования одной гипотезы целевой группе была предложена новая механика оплаты услуг на сайте, у контрольной группы оставалась базовая механика. В качестве задания Вам необходимо проанализировать итоги эксперимента и сделать вывод, стоит ли запускать новую механику оплаты на всех пользователей."
   ]
  },
  {
   "cell_type": "code",
   "execution_count": 7,
   "metadata": {},
   "outputs": [],
   "source": [
    "# переименуем колонку в таблице\n",
    "groups = groups.rename(columns={'id' : 'student_id'})"
   ]
  },
  {
   "cell_type": "code",
   "execution_count": 8,
   "metadata": {},
   "outputs": [],
   "source": [
    "# добавим информацию о группе для активных пользователей\n",
    "full_info = active.merge(groups, on='student_id', how='left')"
   ]
  },
  {
   "cell_type": "code",
   "execution_count": 9,
   "metadata": {},
   "outputs": [
    {
     "data": {
      "text/plain": [
       "student_id     0\n",
       "grp           13\n",
       "dtype: int64"
      ]
     },
     "execution_count": 9,
     "metadata": {},
     "output_type": "execute_result"
    }
   ],
   "source": [
    "# посмотрим есть ли пропущенные значения\n",
    "full_info.isna().sum()"
   ]
  },
  {
   "cell_type": "code",
   "execution_count": 10,
   "metadata": {},
   "outputs": [],
   "source": [
    "# очистим данные от пустых значений\n",
    "full_info = full_info.dropna()"
   ]
  },
  {
   "cell_type": "code",
   "execution_count": 11,
   "metadata": {},
   "outputs": [
    {
     "data": {
      "text/html": [
       "<div>\n",
       "<style scoped>\n",
       "    .dataframe tbody tr th:only-of-type {\n",
       "        vertical-align: middle;\n",
       "    }\n",
       "\n",
       "    .dataframe tbody tr th {\n",
       "        vertical-align: top;\n",
       "    }\n",
       "\n",
       "    .dataframe thead th {\n",
       "        text-align: right;\n",
       "    }\n",
       "</style>\n",
       "<table border=\"1\" class=\"dataframe\">\n",
       "  <thead>\n",
       "    <tr style=\"text-align: right;\">\n",
       "      <th></th>\n",
       "      <th>grp</th>\n",
       "      <th>student_id</th>\n",
       "    </tr>\n",
       "  </thead>\n",
       "  <tbody>\n",
       "    <tr>\n",
       "      <th>0</th>\n",
       "      <td>A</td>\n",
       "      <td>1535</td>\n",
       "    </tr>\n",
       "    <tr>\n",
       "      <th>1</th>\n",
       "      <td>B</td>\n",
       "      <td>6793</td>\n",
       "    </tr>\n",
       "  </tbody>\n",
       "</table>\n",
       "</div>"
      ],
      "text/plain": [
       "  grp  student_id\n",
       "0   A        1535\n",
       "1   B        6793"
      ]
     },
     "execution_count": 11,
     "metadata": {},
     "output_type": "execute_result"
    }
   ],
   "source": [
    "full_info.groupby('grp', as_index=False)\\\n",
    "    .agg({'student_id' : 'count'})"
   ]
  },
  {
   "cell_type": "code",
   "execution_count": null,
   "metadata": {},
   "outputs": [],
   "source": []
  },
  {
   "cell_type": "code",
   "execution_count": 12,
   "metadata": {},
   "outputs": [
    {
     "data": {
      "text/plain": [
       "True"
      ]
     },
     "execution_count": 12,
     "metadata": {},
     "output_type": "execute_result"
    }
   ],
   "source": [
    "# прежде чем добавить информацию о покупках проверим есть ли студенты которые платили повторно\n",
    "checks.shape[0] == checks.student_id.nunique()"
   ]
  },
  {
   "cell_type": "code",
   "execution_count": 13,
   "metadata": {},
   "outputs": [],
   "source": [
    "# добавляем информацию о покупках\n",
    "full_info = full_info.merge(checks, on='student_id', how='left')\\\n",
    "                     .fillna(0)"
   ]
  },
  {
   "cell_type": "code",
   "execution_count": 14,
   "metadata": {},
   "outputs": [
    {
     "data": {
      "text/html": [
       "<div>\n",
       "<style scoped>\n",
       "    .dataframe tbody tr th:only-of-type {\n",
       "        vertical-align: middle;\n",
       "    }\n",
       "\n",
       "    .dataframe tbody tr th {\n",
       "        vertical-align: top;\n",
       "    }\n",
       "\n",
       "    .dataframe thead th {\n",
       "        text-align: right;\n",
       "    }\n",
       "</style>\n",
       "<table border=\"1\" class=\"dataframe\">\n",
       "  <thead>\n",
       "    <tr style=\"text-align: right;\">\n",
       "      <th></th>\n",
       "      <th>student_id</th>\n",
       "      <th>grp</th>\n",
       "      <th>rev</th>\n",
       "    </tr>\n",
       "  </thead>\n",
       "  <tbody>\n",
       "    <tr>\n",
       "      <th>0</th>\n",
       "      <td>581585</td>\n",
       "      <td>A</td>\n",
       "      <td>0.0</td>\n",
       "    </tr>\n",
       "    <tr>\n",
       "      <th>1</th>\n",
       "      <td>3276743</td>\n",
       "      <td>B</td>\n",
       "      <td>0.0</td>\n",
       "    </tr>\n",
       "    <tr>\n",
       "      <th>2</th>\n",
       "      <td>4238589</td>\n",
       "      <td>A</td>\n",
       "      <td>0.0</td>\n",
       "    </tr>\n",
       "    <tr>\n",
       "      <th>3</th>\n",
       "      <td>4475369</td>\n",
       "      <td>B</td>\n",
       "      <td>0.0</td>\n",
       "    </tr>\n",
       "    <tr>\n",
       "      <th>4</th>\n",
       "      <td>5481015</td>\n",
       "      <td>B</td>\n",
       "      <td>0.0</td>\n",
       "    </tr>\n",
       "    <tr>\n",
       "      <th>...</th>\n",
       "      <td>...</td>\n",
       "      <td>...</td>\n",
       "      <td>...</td>\n",
       "    </tr>\n",
       "    <tr>\n",
       "      <th>8323</th>\n",
       "      <td>1794344</td>\n",
       "      <td>B</td>\n",
       "      <td>0.0</td>\n",
       "    </tr>\n",
       "    <tr>\n",
       "      <th>8324</th>\n",
       "      <td>296883</td>\n",
       "      <td>B</td>\n",
       "      <td>0.0</td>\n",
       "    </tr>\n",
       "    <tr>\n",
       "      <th>8325</th>\n",
       "      <td>3598448</td>\n",
       "      <td>B</td>\n",
       "      <td>0.0</td>\n",
       "    </tr>\n",
       "    <tr>\n",
       "      <th>8326</th>\n",
       "      <td>3610547</td>\n",
       "      <td>B</td>\n",
       "      <td>290.0</td>\n",
       "    </tr>\n",
       "    <tr>\n",
       "      <th>8327</th>\n",
       "      <td>205705</td>\n",
       "      <td>B</td>\n",
       "      <td>0.0</td>\n",
       "    </tr>\n",
       "  </tbody>\n",
       "</table>\n",
       "<p>8328 rows × 3 columns</p>\n",
       "</div>"
      ],
      "text/plain": [
       "      student_id grp    rev\n",
       "0         581585   A    0.0\n",
       "1        3276743   B    0.0\n",
       "2        4238589   A    0.0\n",
       "3        4475369   B    0.0\n",
       "4        5481015   B    0.0\n",
       "...          ...  ..    ...\n",
       "8323     1794344   B    0.0\n",
       "8324      296883   B    0.0\n",
       "8325     3598448   B    0.0\n",
       "8326     3610547   B  290.0\n",
       "8327      205705   B    0.0\n",
       "\n",
       "[8328 rows x 3 columns]"
      ]
     },
     "execution_count": 14,
     "metadata": {},
     "output_type": "execute_result"
    }
   ],
   "source": [
    "full_info"
   ]
  },
  {
   "cell_type": "markdown",
   "metadata": {},
   "source": [
    "Так как целью эксперимента является оценить влияние некой новой системы оплаты на сайте, разумным было бы оценить влияние на платящих пользователей. Да, так мы теряем часть данных, но в дальнейшем рассмотрим влияние эксперимента на другую метрику - CR. "
   ]
  },
  {
   "cell_type": "code",
   "execution_count": 18,
   "metadata": {},
   "outputs": [
    {
     "data": {
      "text/html": [
       "<div>\n",
       "<style scoped>\n",
       "    .dataframe tbody tr th:only-of-type {\n",
       "        vertical-align: middle;\n",
       "    }\n",
       "\n",
       "    .dataframe tbody tr th {\n",
       "        vertical-align: top;\n",
       "    }\n",
       "\n",
       "    .dataframe thead th {\n",
       "        text-align: right;\n",
       "    }\n",
       "</style>\n",
       "<table border=\"1\" class=\"dataframe\">\n",
       "  <thead>\n",
       "    <tr style=\"text-align: right;\">\n",
       "      <th></th>\n",
       "      <th>ARPU</th>\n",
       "    </tr>\n",
       "    <tr>\n",
       "      <th>grp</th>\n",
       "      <th></th>\n",
       "    </tr>\n",
       "  </thead>\n",
       "  <tbody>\n",
       "    <tr>\n",
       "      <th>A</th>\n",
       "      <td>933.589744</td>\n",
       "    </tr>\n",
       "    <tr>\n",
       "      <th>B</th>\n",
       "      <td>1255.827487</td>\n",
       "    </tr>\n",
       "  </tbody>\n",
       "</table>\n",
       "</div>"
      ],
      "text/plain": [
       "            ARPU\n",
       "grp             \n",
       "A     933.589744\n",
       "B    1255.827487"
      ]
     },
     "execution_count": 18,
     "metadata": {},
     "output_type": "execute_result"
    }
   ],
   "source": [
    "# посчитаем ARPPU \n",
    "full_info.query('rev > 0').groupby('grp')\\\n",
    "    .agg({'rev' : 'mean'})\\\n",
    "    .rename(columns={'rev' : 'ARPU'})"
   ]
  },
  {
   "cell_type": "markdown",
   "metadata": {},
   "source": [
    "Заметим, что средний чек по группам значительно отличается, но являются ли эти различия стат. значимыми?"
   ]
  },
  {
   "cell_type": "code",
   "execution_count": 20,
   "metadata": {},
   "outputs": [
    {
     "data": {
      "text/plain": [
       "<seaborn.axisgrid.FacetGrid at 0x7ff62b5bec18>"
      ]
     },
     "execution_count": 20,
     "metadata": {},
     "output_type": "execute_result"
    },
    {
     "data": {
      "image/png": "[encoded data removed]",
      "text/plain": [
       "<Figure size 402.875x360 with 1 Axes>"
      ]
     },
     "metadata": {
      "needs_background": "light"
     },
     "output_type": "display_data"
    }
   ],
   "source": [
    "# посмотрим как распределены чеки в зависимости от группы\n",
    "sns.displot(data=full_info.query('rev > 0'), x='rev', hue='grp')"
   ]
  },
  {
   "cell_type": "code",
   "execution_count": null,
   "metadata": {},
   "outputs": [],
   "source": [
    "Видим, что распределение чеков явно не нормальное, сильно скошено влево. Попробуем применить логарифм."
   ]
  },
  {
   "cell_type": "code",
   "execution_count": 17,
   "metadata": {},
   "outputs": [
    {
     "name": "stderr",
     "output_type": "stream",
     "text": [
      "/opt/tljh/user/lib/python3.7/site-packages/seaborn/distributions.py:2557: FutureWarning: `distplot` is a deprecated function and will be removed in a future version. Please adapt your code to use either `displot` (a figure-level function with similar flexibility) or `histplot` (an axes-level function for histograms).\n",
      "  warnings.warn(msg, FutureWarning)\n"
     ]
    },
    {
     "data": {
      "text/plain": [
       "<matplotlib.axes._subplots.AxesSubplot at 0x7fca050ce7b8>"
      ]
     },
     "execution_count": 17,
     "metadata": {},
     "output_type": "execute_result"
    },
    {
     "data": {
      "image/png": "[encoded data removed]",
      "text/plain": [
       "<Figure size 432x288 with 1 Axes>"
      ]
     },
     "metadata": {
      "needs_background": "light"
     },
     "output_type": "display_data"
    }
   ],
   "source": [
    "sns.distplot(full_info.query('grp == \"A\" and rev > 0').rev.apply(np.log))"
   ]
  },
  {
   "cell_type": "code",
   "execution_count": 18,
   "metadata": {},
   "outputs": [
    {
     "name": "stderr",
     "output_type": "stream",
     "text": [
      "/opt/tljh/user/lib/python3.7/site-packages/seaborn/distributions.py:2557: FutureWarning: `distplot` is a deprecated function and will be removed in a future version. Please adapt your code to use either `displot` (a figure-level function with similar flexibility) or `histplot` (an axes-level function for histograms).\n",
      "  warnings.warn(msg, FutureWarning)\n"
     ]
    },
    {
     "data": {
      "text/plain": [
       "<matplotlib.axes._subplots.AxesSubplot at 0x7fca05043c88>"
      ]
     },
     "execution_count": 18,
     "metadata": {},
     "output_type": "execute_result"
    },
    {
     "data": {
      "image/png": "[encoded data removed]",
      "text/plain": [
       "<Figure size 432x288 with 1 Axes>"
      ]
     },
     "metadata": {
      "needs_background": "light"
     },
     "output_type": "display_data"
    }
   ],
   "source": [
    "sns.distplot(full_info.query('grp == \"B\" and rev > 0').rev.apply(np.log))"
   ]
  },
  {
   "cell_type": "markdown",
   "metadata": {},
   "source": [
    "Заметим, что распределения конечно стали более симметричными, но все еще далеки от нормального. Требование нормальности не выполняется, но давайте проверим требование на равенство дисперсий. Если не выполнится и оно - это повод отказаться от использования t-test."
   ]
  },
  {
   "cell_type": "code",
   "execution_count": 16,
   "metadata": {},
   "outputs": [
    {
     "data": {
      "text/plain": [
       "LeveneResult(statistic=0.10794168834088425, pvalue=0.7426765607631863)"
      ]
     },
     "execution_count": 16,
     "metadata": {},
     "output_type": "execute_result"
    }
   ],
   "source": [
    "stats.levene(full_info.query('grp == \"A\" and rev > 0').rev.apply(np.log),\n",
    "             full_info.query('grp == \"B\" and rev > 0').rev.apply(np.log))"
   ]
  },
  {
   "cell_type": "markdown",
   "metadata": {},
   "source": [
    "Видим, что требование о равенстве дисперсий выполняется. Поэтому мы все-таки воспользуемся t-test, чтобы не прибегать к другим методам. Да, так мы увеличиваем вероятность ошибки, но все-таки мы знаем, что t-test на практике можем давать корректные результаты даже на не нормальных распределениях."
   ]
  },
  {
   "cell_type": "code",
   "execution_count": 89,
   "metadata": {},
   "outputs": [
    {
     "data": {
      "text/plain": [
       "Ttest_indResult(statistic=-3.680420288303037, pvalue=0.0002656980812762601)"
      ]
     },
     "execution_count": 89,
     "metadata": {},
     "output_type": "execute_result"
    }
   ],
   "source": [
    "# наконец проведем t-test и посмотрим насколько статистически значимы различия\n",
    "# используем логарифм для того чтобы \"нормализовать\" распределения\n",
    "ttest_ind(full_info.query('grp == \"A\" and rev > 0').rev.apply(np.log),\n",
    "             full_info.query('grp == \"B\" and rev > 0').rev.apply(np.log))"
   ]
  },
  {
   "cell_type": "markdown",
   "metadata": {},
   "source": [
    "Видим, что pvalue достаточно низкий чтобы говорить о статистически значимых различиях. \n",
    "Эксперимент определенно повлиял на средний чек.\n",
    "\n",
    "Заметим, что в общем случае то, что t-test показал стат значисые результаты на лог трансформированных данных не значит что они были в исходных. Но мы провели тест Левене и выяснили, что дисперсии равны, поэтому можно говорить и о том, что в исходных данных тоже есть стат значимые различия.\n",
    "\n",
    "Нам пришлось отбросить значимую часть данных (тех кто не совершил покупку), поэтому целесообразно еще посмотреть на то как экcперимент повлиял на конверсию"
   ]
  },
  {
   "cell_type": "code",
   "execution_count": null,
   "metadata": {},
   "outputs": [],
   "source": []
  },
  {
   "cell_type": "code",
   "execution_count": 33,
   "metadata": {},
   "outputs": [],
   "source": [
    "# подготовим колонку для подсчета конверсии\n",
    "full_info['CR'] = full_info.rev != 0"
   ]
  },
  {
   "cell_type": "code",
   "execution_count": 34,
   "metadata": {},
   "outputs": [
    {
     "data": {
      "text/html": [
       "<div>\n",
       "<style scoped>\n",
       "    .dataframe tbody tr th:only-of-type {\n",
       "        vertical-align: middle;\n",
       "    }\n",
       "\n",
       "    .dataframe tbody tr th {\n",
       "        vertical-align: top;\n",
       "    }\n",
       "\n",
       "    .dataframe thead th {\n",
       "        text-align: right;\n",
       "    }\n",
       "</style>\n",
       "<table border=\"1\" class=\"dataframe\">\n",
       "  <thead>\n",
       "    <tr style=\"text-align: right;\">\n",
       "      <th></th>\n",
       "      <th>CR</th>\n",
       "    </tr>\n",
       "    <tr>\n",
       "      <th>grp</th>\n",
       "      <th></th>\n",
       "    </tr>\n",
       "  </thead>\n",
       "  <tbody>\n",
       "    <tr>\n",
       "      <th>A</th>\n",
       "      <td>0.050814</td>\n",
       "    </tr>\n",
       "    <tr>\n",
       "      <th>B</th>\n",
       "      <td>0.046077</td>\n",
       "    </tr>\n",
       "  </tbody>\n",
       "</table>\n",
       "</div>"
      ],
      "text/plain": [
       "           CR\n",
       "grp          \n",
       "A    0.050814\n",
       "B    0.046077"
      ]
     },
     "execution_count": 34,
     "metadata": {},
     "output_type": "execute_result"
    }
   ],
   "source": [
    "# посмотрим на конверсию по группам\n",
    "full_info.groupby('grp')\\\n",
    "    .agg({'CR' : 'mean'})"
   ]
  },
  {
   "cell_type": "markdown",
   "metadata": {},
   "source": [
    "Видим, что конверсия в тестовой группе упала, но надо понять насколько это различие стат. значимо. Также необходимо помнить, что размеры выборок сильно несбалансированы "
   ]
  },
  {
   "cell_type": "code",
   "execution_count": 29,
   "metadata": {},
   "outputs": [],
   "source": [
    "# подготовим данные для матрицы, которую оценим с помощью критерия хи-квадрат\n",
    "A_freqs = list(full_info.query('grp == \"A\"').CR.value_counts())\n",
    "B_freqs = list(full_info.query('grp == \"B\"').CR.value_counts())"
   ]
  },
  {
   "cell_type": "code",
   "execution_count": 34,
   "metadata": {},
   "outputs": [
    {
     "name": "stdout",
     "output_type": "stream",
     "text": [
      "statistics is 0.526607176998989\n",
      "pvalue is 0.46803677583199144\n"
     ]
    }
   ],
   "source": [
    "# используем гоовую функцию для проведения стат теста \n",
    "obs = np.array([A_freqs, B_freqs])\n",
    "chi2, p, dof, ex = chi2_contingency(obs)\n",
    "print(f'statistics is {chi2}\\npvalue is {p}')"
   ]
  },
  {
   "cell_type": "markdown",
   "metadata": {},
   "source": [
    "Как мы видим, данные не позволяют точно сказать, что эксперимент повлиял на конверсию, а значит при той же конверсии мы имеем повышение среднего чека. Значит определенно надо выкатывать обновление на всех пользователей "
   ]
  },
  {
   "cell_type": "code",
   "execution_count": null,
   "metadata": {},
   "outputs": [],
   "source": [
    "    "
   ]
  },
  {
   "cell_type": "markdown",
   "metadata": {},
   "source": [
    "Задание 2. SQL\n",
    "2.1 Очень усердные ученики.\n",
    "\n",
    "2.1.1 Условие\n",
    "\n",
    "Образовательные курсы состоят из различных уроков, каждый из которых состоит из нескольких маленьких заданий. Каждое такое маленькое задание называется \"горошиной\".\n",
    "\n",
    "Назовём очень усердным учеником того пользователя, который хотя бы раз за текущий месяц правильно решил 20 горошин.\n",
    "\n",
    "2.1.2 Задача\n",
    "\n",
    "Дана таблица default.peas:\n",
    "\n",
    "Название атрибута\tТип атрибута \tСмысловое значение\n",
    "st_id\tint\tID ученика\n",
    "timest\ttimestamp\tВремя решения карточки\n",
    "correct\tbool\tПравильно ли решена горошина?\n",
    "subject\ttext\tДисциплина, в которой находится горошина\n",
    "Необходимо написать оптимальный запрос, который даст информацию о количестве очень усердных студентов.\n",
    "\n",
    "NB! Под усердным студентом мы понимаем студента, который правильно решил 20 задач за текущий месяц."
   ]
  },
  {
   "cell_type": "code",
   "execution_count": null,
   "metadata": {},
   "outputs": [],
   "source": [
    "# для начала проверим за какой промежуток времени у нас есть данные\n",
    "select\n",
    "    min(timest),\n",
    "    max(timest)\n",
    "from peas"
   ]
  },
  {
   "cell_type": "markdown",
   "metadata": {},
   "source": [
    "Результат:\n",
    "  min(timest)                   max(timest)\n",
    "2021-10-30 13:00:00.000  2021-10-31 17:29:52.000\n",
    "\n",
    "То есть данные есть только за два дня "
   ]
  },
  {
   "cell_type": "code",
   "execution_count": null,
   "metadata": {},
   "outputs": [],
   "source": [
    "''' теперь посчитаем количество усердных студентов:\n",
    "1)для этого посчитаем количество правильно решенных задач у каждого\n",
    "2)отфильтруем тех у кого количество не менее 20\n",
    "3)посчитаем количество строк\n",
    "'''\n",
    "SELECT\n",
    "    count(*) as good_students\n",
    "from\n",
    "    (\n",
    "    select \n",
    "        st_id,\n",
    "        sum(correct) as correct_num\n",
    "    from peas\n",
    "    group by\n",
    "        st_id\n",
    "    having \n",
    "        correct_num >= 20\n",
    "    )"
   ]
  },
  {
   "cell_type": "code",
   "execution_count": null,
   "metadata": {},
   "outputs": [],
   "source": [
    "Результат: 136\n"
   ]
  },
  {
   "cell_type": "code",
   "execution_count": null,
   "metadata": {},
   "outputs": [],
   "source": []
  },
  {
   "cell_type": "code",
   "execution_count": null,
   "metadata": {},
   "outputs": [],
   "source": []
  },
  {
   "cell_type": "markdown",
   "metadata": {},
   "source": [
    "2.2 Оптимизация воронки\n",
    "\n",
    "2.2.1 Условие\n",
    "\n",
    "Образовательная платформа предлагает пройти студентам курсы по модели trial: студент может решить бесплатно лишь 30 горошин в день. Для неограниченного количества заданий в определенной дисциплине студенту необходимо приобрести полный доступ. Команда провела эксперимент, где был протестирован новый экран оплаты.\n",
    "\n",
    "2.2.2 Задача\n",
    "\n",
    "Дана таблицы: default.peas (см. выше), default.studs:\n",
    "\n",
    "Необходимо в одном запросе выгрузить следующую информацию о группах пользователей:\n",
    "\n",
    "ARPU \n",
    "ARPAU \n",
    "CR в покупку \n",
    "СR активного пользователя в покупку \n",
    "CR пользователя из активности по математике (subject = ’math’) в покупку курса по математике\n",
    "ARPU считается относительно всех пользователей, попавших в группы.\n",
    "\n",
    "Активным считается пользователь, за все время решивший больше 10 задач правильно в любых дисциплинах.\n",
    "\n",
    "Активным по математике считается пользователь, за все время решивший 2 или больше задач правильно по математике."
   ]
  },
  {
   "cell_type": "code",
   "execution_count": null,
   "metadata": {},
   "outputs": [],
   "source": [
    "'''\n",
    "1) Надо сначала создать таблицу, где для каждого студента будут колонки: test_grp,\n",
    "                                                                         revenue(сумма покупок на платформе), \n",
    "                                                                         CR (1 если совершал покупки, 0 если нет),\n",
    "                                                                         active (1 если пользователь активный, 0 если нет)\n",
    "                                                                         math_active (активность по математике),\n",
    "                                                                         math_CR (совершал ли пользователь покупки по математике)\n",
    "\n",
    "2)Посчитать ARPU\n",
    "3)Считаем ARPAU\n",
    "4)Считаем CR\n",
    "5)Считаем СR для активных студентов\n",
    "6)Считаем CR из активности по математике в покупку по математике\n",
    "7)Соединяем все это в одну таблицу\n",
    "'''"
   ]
  },
  {
   "cell_type": "code",
   "execution_count": null,
   "metadata": {},
   "outputs": [],
   "source": [
    "ЗАПРОС:\n",
    "select  \n",
    "    a.test_grp as test_grp,\n",
    "    a.ARPU as ARPU,\n",
    "    b.ARPAU as ARPAU,\n",
    "    d.CR as CR,\n",
    "    c.CR_active as CR_active,\n",
    "    e.math_CR as math_CR\n",
    "from\n",
    "    (\n",
    "    -- считаем ARPU по группам\n",
    "    select  \n",
    "        test_grp,\n",
    "        avg(revenue) as ARPU\n",
    "    from \n",
    "        (\n",
    "        SELECT\n",
    "           a.st_id as st_id,\n",
    "           a.test_grp as test_grp,\n",
    "           a.active as active,\n",
    "           a.CR as CR,\n",
    "           a.revenue as revenue,\n",
    "           b.math_active as math_active,\n",
    "           b.math_CR as math_CR\n",
    "        from\n",
    "            (\n",
    "            -- создадим таблицу с колонками: st_id, test_grp, active(1 если активный, 0 если нет), CR(1 если совершал покупки, 0 если нет)\n",
    "            SELECT\n",
    "                a.st_id as st_id,\n",
    "                a.test_grp as test_grp,\n",
    "                if(b.correct_num > 10, 1, 0) as active,\n",
    "                if(c.revenue == 0, 0, 1) as CR,\n",
    "                c.revenue as revenue\n",
    "            from studs as a\n",
    "            left JOIN \n",
    "                (\n",
    "                SELECT \n",
    "                    st_id,\n",
    "                    sum(correct) as correct_num\n",
    "                FROM peas \n",
    "                group by \n",
    "                    st_id\n",
    "                ) as b\n",
    "            on a.st_id = b.st_id\n",
    "            LEFT JOIN  \n",
    "                (\n",
    "                select\n",
    "                    st_id,\n",
    "                    sum(money) as revenue\n",
    "                from final_project_check\n",
    "                group by\n",
    "                    st_id\n",
    "                ) as c\n",
    "                ON a.st_id = c.st_id\n",
    "            ) as a\n",
    "        left join   \n",
    "            (-- создаем таблицу с активностью и конверсией по математике\n",
    "            select\n",
    "                a.st_id as st_id,\n",
    "                if(a.math_correct >=2 , 1, 0) as math_active,\n",
    "                if(b.revenue == 0, 0, 1) as math_CR\n",
    "            from\n",
    "                (\n",
    "                select \n",
    "                    st_id,\n",
    "                    sum(correct) as math_correct\n",
    "                from peas\n",
    "                where \n",
    "                    subject == 'Math'\n",
    "                group by \n",
    "                    st_id\n",
    "                ) as a\n",
    "            left join\n",
    "                (\n",
    "                select\n",
    "                    st_id,\n",
    "                    sum(money) as revenue\n",
    "                from final_project_check\n",
    "                where\n",
    "                    subject == 'Math'\n",
    "                group by\n",
    "                    st_id\n",
    "                ) as b\n",
    "            on a.st_id = b.st_id\n",
    "            ) as b\n",
    "        on a.st_id = b.st_id\n",
    "        ) \n",
    "    group by\n",
    "        test_grp\n",
    "    ) as a\n",
    "JOIN\n",
    "    (\n",
    "    -- считаем ARPAU по группам\n",
    "    select  \n",
    "        test_grp,\n",
    "        avg(revenue) as ARPAU\n",
    "    from \n",
    "        (\n",
    "        SELECT\n",
    "           a.st_id as st_id,\n",
    "           a.test_grp as test_grp,\n",
    "           a.active as active,\n",
    "           a.CR as CR,\n",
    "           a.revenue as revenue,\n",
    "           b.math_active as math_active,\n",
    "           b.math_CR as math_CR\n",
    "        from\n",
    "            (\n",
    "            -- создадим таблицу с колонками: st_id, test_grp, active(1 если активный, 0 если нет), CR(1 если совершал покупки, 0 если нет)\n",
    "            SELECT\n",
    "                a.st_id as st_id,\n",
    "                a.test_grp as test_grp,\n",
    "                if(b.correct_num > 10, 1, 0) as active,\n",
    "                if(c.revenue == 0, 0, 1) as CR,\n",
    "                c.revenue as revenue\n",
    "            from studs as a\n",
    "            left JOIN \n",
    "                (\n",
    "                SELECT \n",
    "                    st_id,\n",
    "                    sum(correct) as correct_num\n",
    "                FROM peas \n",
    "                group by \n",
    "                    st_id\n",
    "                ) as b\n",
    "            on a.st_id = b.st_id\n",
    "            LEFT JOIN  \n",
    "                (\n",
    "                select\n",
    "                    st_id,\n",
    "                    sum(money) as revenue\n",
    "                from final_project_check\n",
    "                group by\n",
    "                    st_id\n",
    "                ) as c\n",
    "                ON a.st_id = c.st_id\n",
    "            ) as a\n",
    "        left join   \n",
    "            (-- создаем таблицу с активностью и конверсией по математике\n",
    "            select\n",
    "                a.st_id as st_id,\n",
    "                if(a.math_correct >=2 , 1, 0) as math_active,\n",
    "                if(b.revenue == 0, 0, 1) as math_CR\n",
    "            from\n",
    "                (\n",
    "                select \n",
    "                    st_id,\n",
    "                    sum(correct) as math_correct\n",
    "                from peas\n",
    "                where \n",
    "                    subject == 'Math'\n",
    "                group by \n",
    "                    st_id\n",
    "                ) as a\n",
    "            left join\n",
    "                (\n",
    "                select\n",
    "                    st_id,\n",
    "                    sum(money) as revenue\n",
    "                from final_project_check\n",
    "                where\n",
    "                    subject == 'Math'\n",
    "                group by\n",
    "                    st_id\n",
    "                ) as b\n",
    "            on a.st_id = b.st_id\n",
    "            ) as b\n",
    "        on a.st_id = b.st_id\n",
    "        ) \n",
    "    where\n",
    "        active == 1\n",
    "    group by\n",
    "        test_grp\n",
    "    ) as b  \n",
    "on a.test_grp = b.test_grp\n",
    "join  \n",
    "    (\n",
    "    -- считаем CR_active по группам\n",
    "    select  \n",
    "        test_grp,\n",
    "        avg(CR) as CR_active\n",
    "    from \n",
    "        (\n",
    "        SELECT\n",
    "           a.st_id as st_id,\n",
    "           a.test_grp as test_grp,\n",
    "           a.active as active,\n",
    "           a.CR as CR,\n",
    "           a.revenue as revenue,\n",
    "           b.math_active as math_active,\n",
    "           b.math_CR as math_CR\n",
    "        from\n",
    "            (\n",
    "            -- создадим таблицу с колонками: st_id, test_grp, active(1 если активный, 0 если нет), CR(1 если совершал покупки, 0 если нет)\n",
    "            SELECT\n",
    "                a.st_id as st_id,\n",
    "                a.test_grp as test_grp,\n",
    "                if(b.correct_num > 10, 1, 0) as active,\n",
    "                if(c.revenue == 0, 0, 1) as CR,\n",
    "                c.revenue as revenue\n",
    "            from studs as a\n",
    "            left JOIN \n",
    "                (\n",
    "                SELECT \n",
    "                    st_id,\n",
    "                    sum(correct) as correct_num\n",
    "                FROM peas \n",
    "                group by \n",
    "                    st_id\n",
    "                ) as b\n",
    "            on a.st_id = b.st_id\n",
    "            LEFT JOIN  \n",
    "                (\n",
    "                select\n",
    "                    st_id,\n",
    "                    sum(money) as revenue\n",
    "                from final_project_check\n",
    "                group by\n",
    "                    st_id\n",
    "                ) as c\n",
    "                ON a.st_id = c.st_id\n",
    "            ) as a\n",
    "        left join   \n",
    "            (-- создаем таблицу с активностью и конверсией по математике\n",
    "            select\n",
    "                a.st_id as st_id,\n",
    "                if(a.math_correct >=2 , 1, 0) as math_active,\n",
    "                if(b.revenue == 0, 0, 1) as math_CR\n",
    "            from\n",
    "                (\n",
    "                select \n",
    "                    st_id,\n",
    "                    sum(correct) as math_correct\n",
    "                from peas\n",
    "                where \n",
    "                    subject == 'Math'\n",
    "                group by \n",
    "                    st_id\n",
    "                ) as a\n",
    "            left join\n",
    "                (\n",
    "                select\n",
    "                    st_id,\n",
    "                    sum(money) as revenue\n",
    "                from final_project_check\n",
    "                where\n",
    "                    subject == 'Math'\n",
    "                group by\n",
    "                    st_id\n",
    "                ) as b\n",
    "            on a.st_id = b.st_id\n",
    "            ) as b\n",
    "        on a.st_id = b.st_id\n",
    "        ) \n",
    "    where\n",
    "        active == 1\n",
    "    group by\n",
    "        test_grp\n",
    "    ) as c \n",
    "on a.test_grp = c.test_grp\n",
    "join    \n",
    "    (\n",
    "    -- считаем конверсию по группам\n",
    "    select  \n",
    "        test_grp,\n",
    "        avg(CR) as CR\n",
    "    from \n",
    "        (\n",
    "        SELECT\n",
    "           a.st_id as st_id,\n",
    "           a.test_grp as test_grp,\n",
    "           a.active as active,\n",
    "           a.CR as CR,\n",
    "           a.revenue as revenue,\n",
    "           b.math_active as math_active,\n",
    "           b.math_CR as math_CR\n",
    "        from\n",
    "            (\n",
    "            -- создадим таблицу с колонками: st_id, test_grp, active(1 если активный, 0 если нет), CR(1 если совершал покупки, 0 если нет)\n",
    "            SELECT\n",
    "                a.st_id as st_id,\n",
    "                a.test_grp as test_grp,\n",
    "                if(b.correct_num > 10, 1, 0) as active,\n",
    "                if(c.revenue == 0, 0, 1) as CR,\n",
    "                c.revenue as revenue\n",
    "            from studs as a\n",
    "            left JOIN \n",
    "                (\n",
    "                SELECT \n",
    "                    st_id,\n",
    "                    sum(correct) as correct_num\n",
    "                FROM peas \n",
    "                group by \n",
    "                    st_id\n",
    "                ) as b\n",
    "            on a.st_id = b.st_id\n",
    "            LEFT JOIN  \n",
    "                (\n",
    "                select\n",
    "                    st_id,\n",
    "                    sum(money) as revenue\n",
    "                from final_project_check\n",
    "                group by\n",
    "                    st_id\n",
    "                ) as c\n",
    "                ON a.st_id = c.st_id\n",
    "            ) as a\n",
    "        left join   \n",
    "            (-- создаем таблицу с активностью и конверсией по математике\n",
    "            select\n",
    "                a.st_id as st_id,\n",
    "                if(a.math_correct >=2 , 1, 0) as math_active,\n",
    "                if(b.revenue == 0, 0, 1) as math_CR\n",
    "            from\n",
    "                (\n",
    "                select \n",
    "                    st_id,\n",
    "                    sum(correct) as math_correct\n",
    "                from peas\n",
    "                where \n",
    "                    subject == 'Math'\n",
    "                group by \n",
    "                    st_id\n",
    "                ) as a\n",
    "            left join\n",
    "                (\n",
    "                select\n",
    "                    st_id,\n",
    "                    sum(money) as revenue\n",
    "                from final_project_check\n",
    "                where\n",
    "                    subject == 'Math'\n",
    "                group by\n",
    "                    st_id\n",
    "                ) as b\n",
    "            on a.st_id = b.st_id\n",
    "            ) as b\n",
    "        on a.st_id = b.st_id\n",
    "        ) \n",
    "    group by\n",
    "        test_grp\n",
    "    ) as d   \n",
    "on a.test_grp = d.test_grp\n",
    "join   \n",
    "    (\n",
    "    -- считаем math_CR по группам\n",
    "    select  \n",
    "        test_grp,\n",
    "        avg(math_CR) as math_CR\n",
    "    from \n",
    "        (\n",
    "        SELECT\n",
    "           a.st_id as st_id,\n",
    "           a.test_grp as test_grp,\n",
    "           a.active as active,\n",
    "           a.CR as CR,\n",
    "           a.revenue as revenue,\n",
    "           b.math_active as math_active,\n",
    "           b.math_CR as math_CR\n",
    "        from\n",
    "            (\n",
    "            -- создадим таблицу с колонками: st_id, test_grp, active(1 если активный, 0 если нет), CR(1 если совершал покупки, 0 если нет)\n",
    "            SELECT\n",
    "                a.st_id as st_id,\n",
    "                a.test_grp as test_grp,\n",
    "                if(b.correct_num > 10, 1, 0) as active,\n",
    "                if(c.revenue == 0, 0, 1) as CR,\n",
    "                c.revenue as revenue\n",
    "            from studs as a\n",
    "            left JOIN \n",
    "                (\n",
    "                SELECT \n",
    "                    st_id,\n",
    "                    sum(correct) as correct_num\n",
    "                FROM peas \n",
    "                group by \n",
    "                    st_id\n",
    "                ) as b\n",
    "            on a.st_id = b.st_id\n",
    "            LEFT JOIN  \n",
    "                (\n",
    "                select\n",
    "                    st_id,\n",
    "                    sum(money) as revenue\n",
    "                from final_project_check\n",
    "                group by\n",
    "                    st_id\n",
    "                ) as c\n",
    "                ON a.st_id = c.st_id\n",
    "            ) as a\n",
    "        left join   \n",
    "            (-- создаем таблицу с активностью и конверсией по математике\n",
    "            select\n",
    "                a.st_id as st_id,\n",
    "                if(a.math_correct >=2 , 1, 0) as math_active,\n",
    "                if(b.revenue == 0, 0, 1) as math_CR\n",
    "            from\n",
    "                (\n",
    "                select \n",
    "                    st_id,\n",
    "                    sum(correct) as math_correct\n",
    "                from peas\n",
    "                where \n",
    "                    subject == 'Math'\n",
    "                group by \n",
    "                    st_id\n",
    "                ) as a\n",
    "            left join\n",
    "                (\n",
    "                select\n",
    "                    st_id,\n",
    "                    sum(money) as revenue\n",
    "                from final_project_check\n",
    "                where\n",
    "                    subject == 'Math'\n",
    "                group by\n",
    "                    st_id\n",
    "                ) as b\n",
    "            on a.st_id = b.st_id\n",
    "            ) as b\n",
    "        on a.st_id = b.st_id\n",
    "        ) \n",
    "    where\n",
    "        math_active == 1\n",
    "    group by\n",
    "        test_grp\n",
    "    ) as e\n",
    "on a.test_grp = e.test_grp"
   ]
  },
  {
   "cell_type": "code",
   "execution_count": 43,
   "metadata": {},
   "outputs": [
    {
     "data": {
      "text/html": [
       "<div>\n",
       "<style scoped>\n",
       "    .dataframe tbody tr th:only-of-type {\n",
       "        vertical-align: middle;\n",
       "    }\n",
       "\n",
       "    .dataframe tbody tr th {\n",
       "        vertical-align: top;\n",
       "    }\n",
       "\n",
       "    .dataframe thead th {\n",
       "        text-align: right;\n",
       "    }\n",
       "</style>\n",
       "<table border=\"1\" class=\"dataframe\">\n",
       "  <thead>\n",
       "    <tr style=\"text-align: right;\">\n",
       "      <th></th>\n",
       "      <th>test_grp</th>\n",
       "      <th>ARPU</th>\n",
       "      <th>ARPAU</th>\n",
       "      <th>CR</th>\n",
       "      <th>CR_active</th>\n",
       "      <th>math_CR</th>\n",
       "    </tr>\n",
       "  </thead>\n",
       "  <tbody>\n",
       "    <tr>\n",
       "      <th>0</th>\n",
       "      <td>control</td>\n",
       "      <td>4540.98</td>\n",
       "      <td>10393.70</td>\n",
       "      <td>4.92</td>\n",
       "      <td>11.02</td>\n",
       "      <td>6.12</td>\n",
       "    </tr>\n",
       "    <tr>\n",
       "      <th>1</th>\n",
       "      <td>pilot</td>\n",
       "      <td>11508.47</td>\n",
       "      <td>29739.58</td>\n",
       "      <td>10.85</td>\n",
       "      <td>26.04</td>\n",
       "      <td>9.52</td>\n",
       "    </tr>\n",
       "  </tbody>\n",
       "</table>\n",
       "</div>"
      ],
      "text/plain": [
       "  test_grp      ARPU     ARPAU     CR  CR_active  math_CR\n",
       "0  control   4540.98  10393.70   4.92      11.02     6.12\n",
       "1    pilot  11508.47  29739.58  10.85      26.04     9.52"
      ]
     },
     "execution_count": 43,
     "metadata": {},
     "output_type": "execute_result"
    }
   ],
   "source": [
    "# выведем таблицу из табикса и приведем к более читаемому виду\n",
    "result = pd.read_csv('result.csv')\n",
    "result.CR = result.CR.mul(100)\n",
    "result.CR_active = result.CR_active.mul(100)\n",
    "result.math_CR = result.math_CR.mul(100)\n",
    "result.round(2)"
   ]
  },
  {
   "cell_type": "code",
   "execution_count": null,
   "metadata": {},
   "outputs": [],
   "source": [
    "Если бы были права на запись можно было бы значительно сократить запрос путем создания представления"
   ]
  },
  {
   "cell_type": "code",
   "execution_count": null,
   "metadata": {},
   "outputs": [],
   "source": [
    "create view exp_info as\n",
    "    (\n",
    "    -- создадим таблицу с колонками: st_id, test_grp, active(1 если активный, 0 если нет), CR(1 если совершал покупки, 0 если нет)\n",
    "            SELECT\n",
    "                a.st_id as st_id,\n",
    "                a.test_grp as test_grp,\n",
    "                if(b.correct_num > 10, 1, 0) as active,\n",
    "                if(c.revenue == 0, 0, 1) as CR,\n",
    "                c.revenue as revenue\n",
    "            from studs as a\n",
    "            left JOIN \n",
    "                (\n",
    "                SELECT \n",
    "                    st_id,\n",
    "                    sum(correct) as correct_num\n",
    "                FROM peas \n",
    "                group by \n",
    "                    st_id\n",
    "                ) as b\n",
    "            on a.st_id = b.st_id\n",
    "            LEFT JOIN  \n",
    "                (\n",
    "                select\n",
    "                    st_id,\n",
    "                    sum(money) as revenue\n",
    "                from final_project_check\n",
    "                group by\n",
    "                    st_id\n",
    "                ) as c\n",
    "                ON a.st_id = c.st_id\n",
    "            ) as a\n",
    "        left join   \n",
    "            (-- создаем таблицу с активностью и конверсией по математике\n",
    "            select\n",
    "                a.st_id as st_id,\n",
    "                if(a.math_correct >=2 , 1, 0) as math_active,\n",
    "                if(b.revenue == 0, 0, 1) as math_CR\n",
    "            from\n",
    "                (\n",
    "                select \n",
    "                    st_id,\n",
    "                    sum(correct) as math_correct\n",
    "                from peas\n",
    "                where \n",
    "                    subject == 'Math'\n",
    "                group by \n",
    "                    st_id\n",
    "                ) as a\n",
    "            left join\n",
    "                (\n",
    "                select\n",
    "                    st_id,\n",
    "                    sum(money) as revenue\n",
    "                from final_project_check\n",
    "                where\n",
    "                    subject == 'Math'\n",
    "                group by\n",
    "                    st_id\n",
    "                ) as b\n",
    "            on a.st_id = b.st_id\n",
    "            ) as b\n",
    "        on a.st_id = b.st_id\n",
    "    )"
   ]
  },
  {
   "cell_type": "code",
   "execution_count": null,
   "metadata": {},
   "outputs": [],
   "source": []
  },
  {
   "cell_type": "code",
   "execution_count": null,
   "metadata": {},
   "outputs": [],
   "source": []
  },
  {
   "cell_type": "markdown",
   "metadata": {},
   "source": [
    "Задание 3. Python\n",
    "3.1 Задача\n",
    "\n",
    "Реализуйте функцию, которая будет автоматически подгружать информацию из дополнительного файла groups_add.csv (заголовки могут отличаться) и на основании дополнительных параметров пересчитывать метрики.\n",
    "Реализуйте функцию, которая будет строить графики по получаемым метрикам."
   ]
  },
  {
   "cell_type": "code",
   "execution_count": 85,
   "metadata": {},
   "outputs": [],
   "source": [
    "def add_data():\n",
    "    '''\n",
    "    1)Эта функция считывает данные с диска\n",
    "    2)Обогащает эти данные информацией об участии в эксперимете и покупках\n",
    "    3)добавляет новые записи в таблицу с информацией об эксперименте\n",
    "    '''\n",
    "    groups_add = get_data(groups_add_url, sep=',')\n",
    "    groups_add = groups_add.rename(columns={'id' : 'student_id'})\n",
    "    new_full_info = active.merge(groups_add, on='student_id', how='left')\n",
    "    new_full_info = new_full_info.dropna()\n",
    "    new_full_info = new_full_info.merge(checks, on='student_id', how='left')\\\n",
    "                     .fillna(0)\n",
    "    new_full_info['CR'] = new_full_info.rev != 0\n",
    "    new_full_info = new_full_info.merge(full_info, on=['student_id','grp','rev','CR'], how='outer')\n",
    "    new_metrics = new_full_info.query('rev > 0')\\\n",
    "                               .groupby('grp', as_index=False)\\\n",
    "                               .agg({'rev':'mean'})\n",
    "    \n",
    "    new_full_info.CR = new_full_info.CR.apply(lambda x: 1 if x else 0)\n",
    "    new_metrics = new_metrics.merge(new_full_info.groupby('grp', as_index=False).agg({'CR':'mean'})) \n",
    "    new_metrics = new_metrics.rename(columns={'rev':'ARPPU'})\n",
    "    return new_metrics"
   ]
  },
  {
   "cell_type": "code",
   "execution_count": 86,
   "metadata": {},
   "outputs": [],
   "source": [
    "new_metrics = add_data()"
   ]
  },
  {
   "cell_type": "code",
   "execution_count": 87,
   "metadata": {},
   "outputs": [
    {
     "data": {
      "text/html": [
       "<div>\n",
       "<style scoped>\n",
       "    .dataframe tbody tr th:only-of-type {\n",
       "        vertical-align: middle;\n",
       "    }\n",
       "\n",
       "    .dataframe tbody tr th {\n",
       "        vertical-align: top;\n",
       "    }\n",
       "\n",
       "    .dataframe thead th {\n",
       "        text-align: right;\n",
       "    }\n",
       "</style>\n",
       "<table border=\"1\" class=\"dataframe\">\n",
       "  <thead>\n",
       "    <tr style=\"text-align: right;\">\n",
       "      <th></th>\n",
       "      <th>grp</th>\n",
       "      <th>ARPPU</th>\n",
       "      <th>CR</th>\n",
       "    </tr>\n",
       "  </thead>\n",
       "  <tbody>\n",
       "    <tr>\n",
       "      <th>0</th>\n",
       "      <td>A</td>\n",
       "      <td>933.589744</td>\n",
       "      <td>0.050715</td>\n",
       "    </tr>\n",
       "    <tr>\n",
       "      <th>1</th>\n",
       "      <td>B</td>\n",
       "      <td>1257.878992</td>\n",
       "      <td>0.046156</td>\n",
       "    </tr>\n",
       "  </tbody>\n",
       "</table>\n",
       "</div>"
      ],
      "text/plain": [
       "  grp        ARPPU        CR\n",
       "0   A   933.589744  0.050715\n",
       "1   B  1257.878992  0.046156"
      ]
     },
     "execution_count": 87,
     "metadata": {},
     "output_type": "execute_result"
    }
   ],
   "source": [
    "new_metrics"
   ]
  },
  {
   "cell_type": "code",
   "execution_count": 88,
   "metadata": {},
   "outputs": [],
   "source": [
    "def vizualisation(data):\n",
    "    '''\n",
    "    функция строит два графика: ARPPU по группам и CR по группам\n",
    "    '''\n",
    "    sns.barplot(data=data, y='CR', x='grp')\n",
    "    plt.figure()\n",
    "    sns.barplot(data=data, y='ARPPU', x='grp')\n",
    "    \n"
   ]
  },
  {
   "cell_type": "code",
   "execution_count": 89,
   "metadata": {},
   "outputs": [
    {
     "data": {
      "image/png": "[encoded data removed]",
      "text/plain": [
       "<Figure size 432x288 with 1 Axes>"
      ]
     },
     "metadata": {
      "needs_background": "light"
     },
     "output_type": "display_data"
    },
    {
     "data": {
      "image/png": "[encoded data removed]",
      "text/plain": [
       "<Figure size 432x288 with 1 Axes>"
      ]
     },
     "metadata": {
      "needs_background": "light"
     },
     "output_type": "display_data"
    }
   ],
   "source": [
    "vizualisation(new_metrics)"
   ]
  },
  {
   "cell_type": "code",
   "execution_count": null,
   "metadata": {},
   "outputs": [],
   "source": []
  },
  {
   "cell_type": "code",
   "execution_count": null,
   "metadata": {},
   "outputs": [],
   "source": []
  }
 ],
 "metadata": {
  "kernelspec": {
   "display_name": "Python 3",
   "language": "python",
   "name": "python3"
  },
  "language_info": {
   "codemirror_mode": {
    "name": "ipython",
    "version": 3
   },
   "file_extension": ".py",
   "mimetype": "text/x-python",
   "name": "python",
   "nbconvert_exporter": "python",
   "pygments_lexer": "ipython3",
   "version": "3.7.3"
  }
 },
 "nbformat": 4,
 "nbformat_minor": 4
}
